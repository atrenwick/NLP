{
 "cells": [
  {
   "cell_type": "markdown",
   "id": "c66b27b4",
   "metadata": {},
   "source": [
    "#  HOPS\n",
    "No, not the hops you nmake beer from.\n",
    "HOPS is really good at parsing French, both Old French and Modern French : you can get HOPS here : https://github.com/hopsparser/hopsparser\n",
    "\n",
    "First, you'll have to intall it: feed this to your console\n",
    "'pip install hopsparser'\n",
    "\n",
    "That gets you the code you need. You'll also need models : you can get info and links to them here :\n",
    "https://github.com/hopsparser/hopsparser/blob/main/docs/models.md\n",
    "\n",
    "My reccommedation : give each model a 3 digit code number, and put it in a folder with that name. That makes paths a lot simpler, and makes things simpler for you too : model 241 is a lot easier to remember than the specific combination of treebank and BERT-like element, and a whole lot easier if you're going to use multiple models to find which one suits your particular use case\n",
    "\n",
    "HOPS can run as a component in Spacy, as a server, or in the command line. Since the developer already has docs on how to do the first two (https://hopsparser.readthedocs.io/en/stable/index.html), we'll look at the last one : running HOPS in your command line, with Python to help out too.\n"
   ]
  },
  {
   "cell_type": "markdown",
   "id": "4af279e6",
   "metadata": {},
   "source": [
    "1. Import the libraries we'll need : urllib for downloading, pandas for creating a dataframe, tarfile for decompressing and os to interact with the system\n",
    "that we'll use to download and name the file\n"
   ]
  },
  {
   "cell_type": "code",
   "execution_count": 4,
   "id": "9cf0e252",
   "metadata": {},
   "outputs": [],
   "source": [
    "import urllib.request \n",
    "import pandas as pd\n",
    "import tarfile\n",
    "import os\n",
    "\n"
   ]
  },
  {
   "cell_type": "code",
   "execution_count": 8,
   "id": "ea0b1f94",
   "metadata": {},
   "outputs": [],
   "source": [
    "# specify the URL we want to download\n",
    "url = 'https://zenodo.org/record/7703346/files/UD_French-FTB-flaubert.tar.xz?download=1'\n",
    "\n",
    "# specify the path to where we want to save the model, followed by the user-friendly code, keeping the extensions from the URL\n",
    "save_path = '/Volumes/AlphaThree/'\n",
    "code = '241'\n",
    "extensions = '.tar.xz'\n",
    "file_name = save_path + code + extensions\n",
    "model_specs = url[40:-18]\n",
    "   \n",
    "# keep a record of what code we assigned to which model, and keep that off to one side for the moment\n",
    "model_codes = pd.DataFrame([{'url':url,'code':code}])\n",
    "\n"
   ]
  },
  {
   "cell_type": "markdown",
   "id": "85ce93a3",
   "metadata": {},
   "source": [
    "Download the model to where we specified with the name specified (well, it'll appear there once it's done downloading…)"
   ]
  },
  {
   "cell_type": "code",
   "execution_count": 7,
   "id": "b9caa579",
   "metadata": {},
   "outputs": [
   ],
   "source": [
    "with urllib.request.urlopen(url) as response, open(file_name, 'wb') as out_file:\n",
    "    data = response.read() \n",
    "    out_file.write(data)"
   ]
  },
  {
   "cell_type": "markdown",
   "id": "92e4cef4",
   "metadata": {},
   "source": [
    "The model we just downloaded is compressed, so we need to uncompress it. \n",
    "There'll be 3 things in the folder : a file called config.json, a file called weights.pt and another folder, called 'lexers'.\n",
    "\n",
    "The slash specifies that we want the content extracted to the top level of the filename we provided\n",
    "     \n",
    "\n"
   ]
  },
  {
   "cell_type": "code",
   "execution_count": null,
   "id": "c25943a5",
   "metadata": {},
   "outputs": [],
   "source": [
    "with tarfile.open(file_name) as f:\n",
    "    f.extractall('/' + code)   "
   ]
  },
  {
   "cell_type": "markdown",
   "id": "1edd662b",
   "metadata": {},
   "source": [
    "HOPS runs in the command line, and we need 4 elements to make a valid command:\n",
    "- A 'noun + verb combination' : this is easy : we need to tell the command line which app to use : 'hopsparser' and what we want to do : 'parse'. We'll store these as 'hops_verb' to take care of spaces they need between and after\n",
    "- Model : path to the folder containing the model we want to use\n",
    "- Input file :\n",
    "- Output file : "
   ]
  },
  {
   "cell_type": "code",
   "execution_count": 9,
   "id": "db199254",
   "metadata": {},
   "outputs": [],
   "source": [
    "hops_verb = 'hopsparser parse '\n",
    "model_path = file_name.replace('241.tar.xz','241/')\n",
    "input_file = '/Volumes/Data/sample_text.txt'\n",
    "output_file = '/Volumes/Data/sample_text-241.txt'\n",
    "model_specs = url[40:-18]"
   ]
  },
  {
   "cell_type": "markdown",
   "id": "d51d2fb2",
   "metadata": {},
   "source": [
    "We need to add a level of quotes, otherwise Python will try and execute the command rather than sending the command to os.system \n",
    "\n"
   ]
  },
  {
   "cell_type": "code",
   "execution_count": 10,
   "id": "caba2159",
   "metadata": {},
   "outputs": [],
   "source": [
    "hops_command = \"\\'\" + hops_verb + model_path + model_specs + \" \" + input_file + \" \" + output_file + \"\\'\""
   ]
  },
  {
   "cell_type": "markdown",
   "id": "95370f35",
   "metadata": {},
   "source": [
    "If there's only one file to tag, you're not going to save much time making a function to glue these parts together for the different files, nor making another function that stores those commands before sending them to the command line, but you've got lots of texts, long texts, or lots of models to evaluate, now's the palce to do it. \n",
    "\n",
    "If the latter is the case and you're running on CPU rather than GPU, you'll probably be able to run several virtual environments simultaneously to tag several texts in parallel "
   ]
  },
  {
   "cell_type": "code",
   "execution_count": 1,
   "id": "0a0a3a25",
   "metadata": {},
   "outputs": [],
   "source": [
    "os.system(hops_command)"
   ]
  },
  {
   "cell_type": "markdown",
   "execution_count": 7,
   "id": "160fea48",
   "metadata": {},
   "outputs": [],
   "source": [
    "HOPS will tag away and create the output file"
   ]
  }
 ],
 "metadata": {
  "kernelspec": {
   "display_name": "Python 3 (ipykernel)",
   "language": "python",
   "name": "python3"
  },
  "language_info": {
   "codemirror_mode": {
    "name": "ipython",
    "version": 3
   },
   "file_extension": ".py",
   "mimetype": "text/x-python",
   "name": "python",
   "nbconvert_exporter": "python",
   "pygments_lexer": "ipython3",
   "version": "3.10.9"
  }
 },
 "nbformat": 4,
 "nbformat_minor": 5
}
